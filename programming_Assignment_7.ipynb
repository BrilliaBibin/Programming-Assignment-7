{
  "nbformat": 4,
  "nbformat_minor": 0,
  "metadata": {
    "colab": {
      "provenance": []
    },
    "kernelspec": {
      "name": "python3",
      "display_name": "Python 3"
    },
    "language_info": {
      "name": "python"
    }
  },
  "cells": [
    {
      "cell_type": "markdown",
      "source": [
        "1. Write a Python Program to find sum of array?"
      ],
      "metadata": {
        "id": "ooSv48O_bmeT"
      }
    },
    {
      "cell_type": "code",
      "source": [
        "arr = [1,2,3,4,5]\n",
        "ans = sum(arr)\n",
        "print ('Sum of the array is ',ans)"
      ],
      "metadata": {
        "colab": {
          "base_uri": "https://localhost:8080/"
        },
        "id": "XcRrGgTMbnkc",
        "outputId": "882ae4cd-9602-4f08-8fc8-47c9a8d144ad"
      },
      "execution_count": 2,
      "outputs": [
        {
          "output_type": "stream",
          "name": "stdout",
          "text": [
            "Sum of the array is  15\n"
          ]
        }
      ]
    },
    {
      "cell_type": "markdown",
      "source": [
        "2. Write a Python Program to find largest element in an array?"
      ],
      "metadata": {
        "id": "q4PgbivcceMV"
      }
    },
    {
      "cell_type": "code",
      "source": [
        "def largest(arr, n):\n",
        "\tans = max(arr)\n",
        "\treturn ans;\n",
        "\n",
        "if __name__ == '__main__':\n",
        "\tarr = [10, 324, 45, 90, 9808]\n",
        "\tn = len(arr)\n",
        "\tprint (\"Largest in given array \", largest(arr, n))\n"
      ],
      "metadata": {
        "colab": {
          "base_uri": "https://localhost:8080/"
        },
        "id": "5rNxaXImbobZ",
        "outputId": "20d73770-b314-44f7-d2bc-d4adf4884d4e"
      },
      "execution_count": 3,
      "outputs": [
        {
          "output_type": "stream",
          "name": "stdout",
          "text": [
            "Largest in given array  9808\n"
          ]
        }
      ]
    },
    {
      "cell_type": "markdown",
      "source": [
        "3. Write a Python Program for array rotation?"
      ],
      "metadata": {
        "id": "xNBc_M2VdrUK"
      }
    },
    {
      "cell_type": "code",
      "source": [
        "def rotateArray(a,d):\n",
        "    n=len(a)\n",
        "    a[:]=a[d:n]+a[0:d]\n",
        "    return a\n",
        "\n",
        "arr = [1, 2, 3, 4, 5, 6]\n",
        "\n",
        "print(\"Rotated list is\")\n",
        "print(rotateArray(arr,2)) "
      ],
      "metadata": {
        "colab": {
          "base_uri": "https://localhost:8080/"
        },
        "id": "tU4047PbeQJK",
        "outputId": "617a49c2-238b-465b-b8bd-bfce99bfa997"
      },
      "execution_count": 4,
      "outputs": [
        {
          "output_type": "stream",
          "name": "stdout",
          "text": [
            "Rotated list is\n",
            "[3, 4, 5, 6, 1, 2]\n"
          ]
        }
      ]
    },
    {
      "cell_type": "markdown",
      "source": [
        "4. Write a Python Program to Split the array and add the first part to the end?"
      ],
      "metadata": {
        "id": "WQDcB3wkenZo"
      }
    },
    {
      "cell_type": "code",
      "source": [
        "def splitArr(arr, n, k):\n",
        "\tfor i in range(0, k):\n",
        "\t\tx = arr[0]\n",
        "\t\tfor j in range(0, n-1):\n",
        "\t\t\tarr[j] = arr[j + 1]\n",
        "\t\t\n",
        "\t\tarr[n-1] = x\n",
        "\t\t\n",
        "arr = [12, 10, 5, 6, 52, 36]\n",
        "n = len(arr)\n",
        "position = 2\n",
        "\n",
        "splitArr(arr, n, position)\n",
        "\n",
        "for i in range(0, n):\n",
        "\tprint(arr[i], end = ' ')\n"
      ],
      "metadata": {
        "colab": {
          "base_uri": "https://localhost:8080/"
        },
        "id": "BDIz_4nbeUU-",
        "outputId": "1b9a89f2-da3f-4efc-df85-6c30150e777c"
      },
      "execution_count": 7,
      "outputs": [
        {
          "output_type": "stream",
          "name": "stdout",
          "text": [
            "5 6 52 36 12 10 "
          ]
        }
      ]
    },
    {
      "cell_type": "markdown",
      "source": [
        "5. Write a Python Program to check if given array is Monotonic?"
      ],
      "metadata": {
        "id": "5meZxTLVhkws"
      }
    },
    {
      "cell_type": "code",
      "source": [
        "def isMonotonic(A):\n",
        "\n",
        "\treturn (all(A[i] <= A[i + 1] for i in range(len(A) - 1)) or\n",
        "\t\t\tall(A[i] >= A[i + 1] for i in range(len(A) - 1)))\n",
        "\n",
        "A = [6, 5, 4, 4]\n",
        "\n",
        "print(isMonotonic(A))\n"
      ],
      "metadata": {
        "colab": {
          "base_uri": "https://localhost:8080/"
        },
        "id": "FjZijUBKiHx-",
        "outputId": "d739e106-0b7c-435b-f4f3-f9ebd4b09561"
      },
      "execution_count": 8,
      "outputs": [
        {
          "output_type": "stream",
          "name": "stdout",
          "text": [
            "True\n"
          ]
        }
      ]
    },
    {
      "cell_type": "code",
      "source": [],
      "metadata": {
        "id": "FyEL1eJ8iPK1"
      },
      "execution_count": null,
      "outputs": []
    }
  ]
}